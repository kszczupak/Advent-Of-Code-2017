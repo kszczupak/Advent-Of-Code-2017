{
 "cells": [
  {
   "cell_type": "code",
   "execution_count": 1,
   "metadata": {},
   "outputs": [],
   "source": [
    "my_input = \"day21_my_input.txt\"\n",
    "test_input = \"day21_test_input.txt\""
   ]
  },
  {
   "cell_type": "code",
   "execution_count": 232,
   "metadata": {},
   "outputs": [],
   "source": [
    "class FractalArt:\n",
    "    def __init__(self, data_file, iterations=5):\n",
    "        self._grid = self._load_init_grid()\n",
    "        self._enhancement_rules = self._load_enhancement_rules(data_file)\n",
    "        self._enhance_grid(iterations)\n",
    "        \n",
    "    @property\n",
    "    def on_pixels_count(self):\n",
    "        return sum(map(sum, self._grid))\n",
    "        \n",
    "    def _enhance_grid(self, iterations):\n",
    "        for i in range(iterations):\n",
    "            if not len(self._grid) % 2:\n",
    "                self._grid = self._get_enhanced_grid(divisor=2)\n",
    "            else:\n",
    "                self._grid = self._get_enhanced_grid(divisor=3)\n",
    "#             print(f\"Iterations passed: {i}, grid size: {len(self._grid)}\")\n",
    "\n",
    "                \n",
    "    def _get_enhanced_grid(self, divisor):\n",
    "        grid_size = len(self._grid)\n",
    "        new_grid = list()\n",
    "        for i in range(grid_size // divisor):\n",
    "            chunks = list()\n",
    "            for j in range(grid_size // divisor):\n",
    "                start_col = j * divisor\n",
    "                stop_col = start_col + divisor\n",
    "                start_row = i * divisor\n",
    "                stop_row = start_row + divisor\n",
    "                selection = [tuple(row[start_col:stop_col]) \n",
    "                             for row in \n",
    "                             self._grid[start_row:stop_row]]\n",
    "                new_chunk = self._enhancement_rules[tuple(selection)]\n",
    "                chunks = self._append_columns(chunks, new_chunk)\n",
    "            new_grid += chunks\n",
    "        \n",
    "        return new_grid\n",
    "    \n",
    "    def _append_columns(self, init_chunk, to_append):\n",
    "        if not init_chunk:\n",
    "            return to_append\n",
    "        \n",
    "        new_chunk = list()\n",
    "        for init_row, row_to_append in zip(init_chunk, to_append):\n",
    "            new_row = init_row + row_to_append\n",
    "            new_chunk.append(new_row)\n",
    "        \n",
    "        return new_chunk\n",
    "        \n",
    "    def _load_init_grid(self):\n",
    "        return [[0, 1, 0], [0, 0, 1], [1, 1, 1]]\n",
    "    \n",
    "    def _load_enhancement_rules(self, data_file):\n",
    "        rules = dict()\n",
    "        with open(data_file) as f:\n",
    "            for line in f:\n",
    "                self._process_rule(line, rules)\n",
    "        \n",
    "        return rules\n",
    "    \n",
    "    def _process_rule(self, rule_string, rules_dict):\n",
    "        init_pattern, rule = rule_string.split(\" => \")\n",
    "        \n",
    "        init_pattern_converted = self._convert_to_int_array(init_pattern)\n",
    "        rule_converted = self._convert_to_int_array(rule)\n",
    "        \n",
    "        for pattern in self._rotate_or_flip(init_pattern_converted):\n",
    "            rules_dict[tuple(pattern)] = rule_converted\n",
    "            \n",
    "        return rules_dict\n",
    "        \n",
    "    def _convert_to_int_array(self, string_array):\n",
    "        converted_array = list()\n",
    "        for row in string_array.strip().split(\"/\"):\n",
    "            converted_row = tuple(map(self._transform_to_int, row))\n",
    "            converted_array.append(converted_row)\n",
    "        \n",
    "        return converted_array\n",
    "        \n",
    "    def _transform_to_int(self, char):\n",
    "        if char == '.':\n",
    "            return 0\n",
    "        if char == '#':\n",
    "            return 1\n",
    "        raise NotImplementedError()\n",
    "    \n",
    "    def _rotate_or_flip(self, pattern):\n",
    "        yield pattern #unmodified\n",
    "        yield self._flip_horizontally(pattern)\n",
    "        yield self._flip_vertically(pattern)\n",
    "        rotated_clockwise = list(zip(*pattern[::-1]))\n",
    "        yield rotated_clockwise #rotated clockwise\n",
    "        yield self._flip_horizontally(rotated_clockwise)\n",
    "        yield self._flip_vertically(rotated_clockwise)\n",
    "        double_clockwise = list(zip(*rotated_clockwise[::-1]))\n",
    "        yield double_clockwise\n",
    "        yield self._flip_horizontally(double_clockwise)\n",
    "        yield self._flip_vertically(double_clockwise)\n",
    "        anti_clockwise = list(reversed(list(zip(*pattern))))\n",
    "        yield anti_clockwise\n",
    "        yield self._flip_horizontally(anti_clockwise)\n",
    "        yield self._flip_vertically(anti_clockwise)\n",
    "        \n",
    "    def _flip_horizontally(self, array):\n",
    "        return array[::-1]\n",
    "    \n",
    "    def _flip_vertically(self, array):\n",
    "        new_array = list()\n",
    "        for row in array:\n",
    "            new_row = tuple(reversed(row))\n",
    "            new_array.append(new_row)\n",
    "        return new_array"
   ]
  },
  {
   "cell_type": "markdown",
   "metadata": {},
   "source": [
    "## Part 1"
   ]
  },
  {
   "cell_type": "code",
   "execution_count": 233,
   "metadata": {},
   "outputs": [
    {
     "name": "stdout",
     "output_type": "stream",
     "text": [
      "Test passed\n"
     ]
    }
   ],
   "source": [
    "assert(FractalArt(test_input, iterations=2).on_pixels_count == 12)\n",
    "print(\"Test passed\")"
   ]
  },
  {
   "cell_type": "code",
   "execution_count": 234,
   "metadata": {
    "scrolled": true
   },
   "outputs": [
    {
     "data": {
      "text/plain": [
       "142"
      ]
     },
     "execution_count": 234,
     "metadata": {},
     "output_type": "execute_result"
    }
   ],
   "source": [
    "FractalArt(my_input, iterations=5).on_pixels_count"
   ]
  },
  {
   "cell_type": "markdown",
   "metadata": {},
   "source": [
    "## Part 2"
   ]
  },
  {
   "cell_type": "code",
   "execution_count": 236,
   "metadata": {
    "scrolled": true
   },
   "outputs": [
    {
     "data": {
      "text/plain": [
       "1879071"
      ]
     },
     "execution_count": 236,
     "metadata": {},
     "output_type": "execute_result"
    }
   ],
   "source": [
    "FractalArt(my_input, iterations=18).on_pixels_count"
   ]
  },
  {
   "cell_type": "code",
   "execution_count": null,
   "metadata": {},
   "outputs": [],
   "source": []
  }
 ],
 "metadata": {
  "kernelspec": {
   "display_name": "Python 3",
   "language": "python",
   "name": "python3"
  },
  "language_info": {
   "codemirror_mode": {
    "name": "ipython",
    "version": 3
   },
   "file_extension": ".py",
   "mimetype": "text/x-python",
   "name": "python",
   "nbconvert_exporter": "python",
   "pygments_lexer": "ipython3",
   "version": "3.6.1"
  }
 },
 "nbformat": 4,
 "nbformat_minor": 2
}
