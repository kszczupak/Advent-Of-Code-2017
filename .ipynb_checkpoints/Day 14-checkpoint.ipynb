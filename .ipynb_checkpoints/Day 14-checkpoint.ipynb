{
 "cells": [
  {
   "cell_type": "code",
   "execution_count": 42,
   "metadata": {},
   "outputs": [],
   "source": [
    "my_input = \"wenycdww\"\n",
    "test_input = \"flqrgnkx\""
   ]
  },
  {
   "cell_type": "code",
   "execution_count": 17,
   "metadata": {},
   "outputs": [],
   "source": [
    "class KnotHash:\n",
    "    def __init__(self, ascii_string, hash_list_size=256):\n",
    "        self._lengths = self._convert_to_ascii_codes(ascii_string)\n",
    "        self._add_lengths_suffix()\n",
    "        self._hashing_list = list(range(hash_list_size))\n",
    "        self._sparse_hash = self._full_hash_cycle()\n",
    "        self._dense_hash = self._get_dense_hash()\n",
    "        self.hex_hash = self._to_hex_hash()\n",
    "        self.binary_hash = self._to_binary_hash()\n",
    "        \n",
    "    def _to_hex_hash(self):\n",
    "        hex_list = list()\n",
    "        \n",
    "        for h in self._dense_hash:\n",
    "            hex_representation = hex(h)[2:]\n",
    "            if len(hex_representation) < 2:\n",
    "                hex_representation = '0' + hex_representation\n",
    "                \n",
    "            hex_list.append(hex_representation)\n",
    "            \n",
    "        return \"\".join(hex_list)\n",
    "    \n",
    "    def _to_binary_hash(self):\n",
    "        binary_list = list()\n",
    "        \n",
    "        for single_hex in self.hex_hash:\n",
    "            single_binary = bin(int(single_hex, base=16))[2:]\n",
    "            single_binary = single_binary.zfill(4)\n",
    "            \n",
    "            binary_list.append(single_binary)\n",
    "        \n",
    "        return \"\".join(binary_list)\n",
    "    \n",
    "    def _get_dense_hash(self):\n",
    "        dense_hash_lenght = 16\n",
    "        dense_hash = list()\n",
    "        \n",
    "        for i in range(dense_hash_lenght):\n",
    "            start_index = i * dense_hash_lenght\n",
    "            end_index = start_index + dense_hash_lenght\n",
    "            \n",
    "            current_slice = self._sparse_hash[start_index : end_index]\n",
    "            xor = 0\n",
    "            \n",
    "            for element in current_slice:\n",
    "                xor ^= element\n",
    "            \n",
    "            dense_hash.append(xor) \n",
    "        \n",
    "        return dense_hash\n",
    "         \n",
    "    def _convert_to_ascii_codes(self, ascii_string):\n",
    "        return list(map(ord, list(ascii_string)))\n",
    "    \n",
    "    def _add_lengths_suffix(self):\n",
    "        suffix = [17, 31, 73, 47, 23]\n",
    "        self._lengths += suffix\n",
    "    \n",
    "    def _full_hash_cycle(self):\n",
    "        skip_size = 0\n",
    "        current_position = 0\n",
    "        rounds = 64\n",
    "        \n",
    "        for _ in range(rounds):\n",
    "            current_position, skip_size = self._single_hash_round(current_position, skip_size)\n",
    "            \n",
    "        return self._hashing_list\n",
    "        \n",
    "    def _single_hash_round(self, current_position, skip_size):\n",
    "        for length in self._lengths:\n",
    "            start_index = current_position\n",
    "            end_index = self._get_circular_index(start_index + length)\n",
    "            \n",
    "            if length:\n",
    "                self._reorder_hashing_list(start_index, end_index)\n",
    "            \n",
    "            current_position = self._get_circular_index(current_position + length + skip_size)\n",
    "            skip_size += 1\n",
    "        \n",
    "        return current_position, skip_size\n",
    "    \n",
    "    def _reorder_hashing_list(self, start_index, end_index):\n",
    "            if start_index < end_index:\n",
    "                selection = self._hashing_list[start_index : end_index]\n",
    "                self._hashing_list = self._hashing_list[: start_index] +\\\n",
    "                                     list(reversed(selection)) +\\\n",
    "                                     self._hashing_list[end_index :]\n",
    "            else:\n",
    "                selection = self._hashing_list[start_index :] + self._hashing_list[: end_index]\n",
    "                selection_break_point = len(self._hashing_list[start_index :])\n",
    "                reversed_selection = list(reversed(selection))\n",
    "                self._hashing_list = reversed_selection[selection_break_point :] +\\\n",
    "                                     self._hashing_list[end_index : start_index] +\\\n",
    "                                     reversed_selection[: selection_break_point]\n",
    "    \n",
    "    def _get_circular_index(self, index):\n",
    "        return index % len(self._hashing_list)"
   ]
  },
  {
   "cell_type": "code",
   "execution_count": 191,
   "metadata": {},
   "outputs": [],
   "source": [
    "class Disk:\n",
    "    def __init__(self, data):\n",
    "        self.used_squares_count = 0\n",
    "        self._disk_grid = self._create_disk_grid(data)\n",
    "        self._visited = None\n",
    "        self.regions_count = 0\n",
    "        self._regions = dict()\n",
    "        self._discover_regions()\n",
    "        \n",
    "    def _create_disk_grid(self, data):\n",
    "        grid = list()\n",
    "        grid_height = 128\n",
    "        \n",
    "        for i in range(grid_height):\n",
    "            input_string = f\"{data}-{i}\"\n",
    "            binary_hash = KnotHash(input_string).binary_hash\n",
    "            binary_list = list(map(int, binary_hash))\n",
    "            self.used_squares_count += sum(binary_list)\n",
    "            \n",
    "            grid.append(binary_list)\n",
    "        \n",
    "        return grid\n",
    "    \n",
    "    def _discover_regions(self):\n",
    "        grid_height = len(self._disk_grid)\n",
    "        grid_width = len(self._disk_grid[0])\n",
    "        \n",
    "        self._visited = [[False for _ in range(grid_width)] for _ in range(grid_height)]\n",
    "        \n",
    "        for y, row in enumerate(self._disk_grid):\n",
    "            for x, square in enumerate(row):\n",
    "                if square and not self._visited[y][x]:\n",
    "                    self.regions_count += 1\n",
    "                    self._visit_square(x, y, self.regions_count)\n",
    "        \n",
    "    def _visit_square(self, x, y, region):\n",
    "        self._visited[y][x] = True\n",
    "        self._regions[(y, x)] = region\n",
    "        \n",
    "        for neighbour in self._neighbours(x, y):\n",
    "            n_x = neighbour[1]\n",
    "            n_y = neighbour[0]\n",
    "            if self._disk_grid[n_y][n_x] and not self._visited[n_y][n_x]:\n",
    "                self._visit_square(n_x, n_y, region)\n",
    "        \n",
    "    def _neighbours(self, x, y):\n",
    "        neighbours = set()\n",
    "        \n",
    "        for neighbour in self._potential_neighbours(x, y):\n",
    "                try:\n",
    "                    if neighbour[0] < 0 or neighbour[1] < 0:\n",
    "                        continue\n",
    "                    self._disk_grid[neighbour[0]][neighbour[1]]\n",
    "                    neighbours.add(neighbour)\n",
    "                except IndexError:\n",
    "                    pass\n",
    "                \n",
    "        return neighbours\n",
    "    \n",
    "    def _potential_neighbours(self, x, y):\n",
    "        yield (y + 1, x)\n",
    "        yield (y - 1, x)\n",
    "        yield (y, x + 1)\n",
    "        yield (y, x - 1)"
   ]
  },
  {
   "cell_type": "markdown",
   "metadata": {},
   "source": [
    "## Part 1"
   ]
  },
  {
   "cell_type": "code",
   "execution_count": 192,
   "metadata": {},
   "outputs": [
    {
     "name": "stdout",
     "output_type": "stream",
     "text": [
      "Test passed\n"
     ]
    }
   ],
   "source": [
    "assert(Disk(test_input).used_squares_count == 8108)\n",
    "print(\"Test passed\")"
   ]
  },
  {
   "cell_type": "code",
   "execution_count": 193,
   "metadata": {},
   "outputs": [
    {
     "data": {
      "text/plain": [
       "8226"
      ]
     },
     "execution_count": 193,
     "metadata": {},
     "output_type": "execute_result"
    }
   ],
   "source": [
    "Disk(my_input).used_squares_count"
   ]
  },
  {
   "cell_type": "markdown",
   "metadata": {},
   "source": [
    "## Part 2"
   ]
  },
  {
   "cell_type": "code",
   "execution_count": 194,
   "metadata": {},
   "outputs": [
    {
     "name": "stdout",
     "output_type": "stream",
     "text": [
      "Test passed\n"
     ]
    }
   ],
   "source": [
    "assert(Disk(test_input).regions_count == 1242)\n",
    "print(\"Test passed\")"
   ]
  },
  {
   "cell_type": "code",
   "execution_count": 195,
   "metadata": {},
   "outputs": [
    {
     "data": {
      "text/plain": [
       "1128"
      ]
     },
     "execution_count": 195,
     "metadata": {},
     "output_type": "execute_result"
    }
   ],
   "source": [
    "Disk(my_input).regions_count"
   ]
  },
  {
   "cell_type": "code",
   "execution_count": null,
   "metadata": {},
   "outputs": [],
   "source": []
  }
 ],
 "metadata": {
  "kernelspec": {
   "display_name": "Python 3",
   "language": "python",
   "name": "python3"
  },
  "language_info": {
   "codemirror_mode": {
    "name": "ipython",
    "version": 3
   },
   "file_extension": ".py",
   "mimetype": "text/x-python",
   "name": "python",
   "nbconvert_exporter": "python",
   "pygments_lexer": "ipython3",
   "version": "3.6.1"
  }
 },
 "nbformat": 4,
 "nbformat_minor": 2
}
