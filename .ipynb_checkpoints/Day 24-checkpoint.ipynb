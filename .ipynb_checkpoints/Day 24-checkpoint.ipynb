{
 "cells": [
  {
   "cell_type": "code",
   "execution_count": 1,
   "metadata": {},
   "outputs": [],
   "source": [
    "my_input = \"day24_my_input.txt\"\n",
    "test_input = \"day24_test_input.txt\""
   ]
  },
  {
   "cell_type": "code",
   "execution_count": 11,
   "metadata": {},
   "outputs": [],
   "source": [
    "from collections import deque\n",
    "from functools import reduce\n",
    "\n",
    "class Component:\n",
    "    def __init__(self, string_data):\n",
    "        self._ports = self._parse_input_data(string_data)\n",
    "        self._string_rep = f\"-{string_data.strip()}-\"\n",
    "    \n",
    "    @property\n",
    "    def strength(self):\n",
    "        return sum(self._ports)\n",
    "    \n",
    "    def other_port(self, port):\n",
    "        if port not in self._ports:\n",
    "            raise NotImplementedError()\n",
    "        if port == self._ports[0]:\n",
    "            return self._ports[1]\n",
    "        return self._ports[0]\n",
    "    \n",
    "    def has_port(self, port):\n",
    "        return port in self._ports\n",
    "    \n",
    "    def __str__(self):\n",
    "        return self._string_rep\n",
    "    \n",
    "    def __eq__(self, other):\n",
    "        return self._ports == other._ports\n",
    "    \n",
    "    def __hash__(self):\n",
    "        return hash(self._ports)\n",
    "    \n",
    "    def _parse_input_data(self, string_data):\n",
    "        ports = string_data.strip().split(\"/\")\n",
    "        return tuple(map(int, ports))\n",
    "    \n",
    "class BridgeBuilder:\n",
    "    def __init__(self, data_file):\n",
    "        self._components = self._load_data(data_file)\n",
    "        self._bridges = self._construct_bridges()\n",
    "        \n",
    "    @property\n",
    "    def strength_of_strongest(self):\n",
    "        max_strength = 0\n",
    "        for bridge in self._bridges:\n",
    "            brige_strength = sum([c.strength for c in bridge])\n",
    "            if brige_strength > max_strength:\n",
    "                max_strength = brige_strength\n",
    "        return max_strength\n",
    "    \n",
    "    @property\n",
    "    def strength_of_longest(self):\n",
    "        current_max = (0, 0)\n",
    "        for bridge in self._bridges:\n",
    "            bridge_length = len(bridge)\n",
    "            bridge_strength = sum([c.strength for c in bridge])\n",
    "            if (bridge_length > current_max[0]) or\\\n",
    "            (bridge_length == current_max[0] and bridge_strength > current_max[1]):\n",
    "                    current_max = (bridge_length, bridge_strength)\n",
    "        return current_max[1]\n",
    "    \n",
    "    def _load_data(self, data_file):\n",
    "        with open(data_file) as f:\n",
    "            components = {Component(line) for line in f}\n",
    "        return components\n",
    "    \n",
    "    def _construct_bridges(self):\n",
    "        start_port = 0\n",
    "        processing_queue = deque()\n",
    "        bridges = list()\n",
    "        \n",
    "        # [[bridge], next_port]\n",
    "        processing_queue.extend(\n",
    "            [[[component], component.other_port(start_port)]\n",
    "             for component in self._get_components(start_port)])\n",
    "        \n",
    "        while processing_queue:\n",
    "            bridge, next_port = processing_queue.popleft()\n",
    "            for component in self._next_component(bridge, next_port):\n",
    "                if not component:\n",
    "                    # Bridge completed\n",
    "                    bridges.append(bridge[:])\n",
    "                else:\n",
    "                    # Bridge still under construction...\n",
    "                    new_bridge = bridge[:]\n",
    "                    new_bridge.append(component)\n",
    "                    new_next_port = component.other_port(next_port)\n",
    "                    processing_queue.append([new_bridge, new_next_port])\n",
    "        \n",
    "        return bridges\n",
    "                    \n",
    "    def _next_component(self, bridge, next_port):\n",
    "        potential_components = self._get_components(next_port)\n",
    "        \n",
    "        for component in potential_components:\n",
    "            if component not in bridge:\n",
    "                yield component\n",
    "        \n",
    "        # end construction by yielding None\n",
    "        yield None\n",
    "        \n",
    "    def _get_components(self, port):\n",
    "        components = filter(lambda c: c.has_port(port), self._components)\n",
    "        return list(components)"
   ]
  },
  {
   "cell_type": "markdown",
   "metadata": {},
   "source": [
    "## Part 1 & 2"
   ]
  },
  {
   "cell_type": "code",
   "execution_count": 15,
   "metadata": {},
   "outputs": [
    {
     "name": "stdout",
     "output_type": "stream",
     "text": [
      "Test passed\n"
     ]
    }
   ],
   "source": [
    "builder = BridgeBuilder(test_input)\n",
    "assert(builder.strength_of_strongest == 31)\n",
    "assert(builder.strength_of_longest == 19)\n",
    "print(\"Test passed\")"
   ]
  },
  {
   "cell_type": "code",
   "execution_count": 17,
   "metadata": {},
   "outputs": [
    {
     "name": "stdout",
     "output_type": "stream",
     "text": [
      "Part 1: 1511\n",
      "Part 2: 1471\n",
      "Wall time: 1min 16s\n"
     ]
    }
   ],
   "source": [
    "%%time\n",
    "builder = BridgeBuilder(my_input)\n",
    "print(f\"Part 1: {builder.strength_of_strongest}\")\n",
    "print(f\"Part 2: {builder.strength_of_longest}\")"
   ]
  },
  {
   "cell_type": "code",
   "execution_count": null,
   "metadata": {},
   "outputs": [],
   "source": []
  }
 ],
 "metadata": {
  "kernelspec": {
   "display_name": "Python 3",
   "language": "python",
   "name": "python3"
  },
  "language_info": {
   "codemirror_mode": {
    "name": "ipython",
    "version": 3
   },
   "file_extension": ".py",
   "mimetype": "text/x-python",
   "name": "python",
   "nbconvert_exporter": "python",
   "pygments_lexer": "ipython3",
   "version": "3.6.1"
  }
 },
 "nbformat": 4,
 "nbformat_minor": 2
}
