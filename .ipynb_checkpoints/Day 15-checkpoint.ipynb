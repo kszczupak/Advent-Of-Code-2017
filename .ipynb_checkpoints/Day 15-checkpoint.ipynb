{
 "cells": [
  {
   "cell_type": "code",
   "execution_count": 16,
   "metadata": {},
   "outputs": [],
   "source": [
    "my_input = (703, 516)\n",
    "test_input = (65, 8921)"
   ]
  },
  {
   "cell_type": "markdown",
   "metadata": {},
   "source": [
    "## Part 1"
   ]
  },
  {
   "cell_type": "code",
   "execution_count": 53,
   "metadata": {},
   "outputs": [],
   "source": [
    "def generator(start_value, factor):\n",
    "    current_value = start_value\n",
    "    \n",
    "    while True:\n",
    "        current_value *= factor\n",
    "        current_value %= 2147483647\n",
    "        \n",
    "        yield current_value & 0xffff\n",
    "    \n",
    "def judge(generator_A, generator_B):\n",
    "    total = 0\n",
    "    trials = 40000000\n",
    "    \n",
    "    for _ in range(trials):\n",
    "        if next(generator_A) == next(generator_B):\n",
    "            total += 1\n",
    "\n",
    "    return total\n",
    "    "
   ]
  },
  {
   "cell_type": "code",
   "execution_count": 54,
   "metadata": {},
   "outputs": [
    {
     "name": "stdout",
     "output_type": "stream",
     "text": [
      "Test passed\n",
      "Wall time: 50.3 s\n"
     ]
    }
   ],
   "source": [
    "%%time\n",
    "gen_A = generator(test_input[0], 16807)\n",
    "gen_B = generator(test_input[1], 48271)\n",
    "assert(judge(gen_A, gen_B) == 588)\n",
    "print(\"Test passed\")"
   ]
  },
  {
   "cell_type": "code",
   "execution_count": 10,
   "metadata": {},
   "outputs": [
    {
     "data": {
      "text/plain": [
       "594"
      ]
     },
     "execution_count": 10,
     "metadata": {},
     "output_type": "execute_result"
    }
   ],
   "source": [
    "gen_A = generator(my_input[0], 16807)\n",
    "gen_B = generator(my_input[1], 48271)\n",
    "judge(gen_A, gen_B)"
   ]
  },
  {
   "cell_type": "markdown",
   "metadata": {},
   "source": [
    "## Part 2"
   ]
  },
  {
   "cell_type": "code",
   "execution_count": 65,
   "metadata": {},
   "outputs": [],
   "source": [
    "def generator(start_value, factor, multiples):\n",
    "    current_value = start_value\n",
    "    \n",
    "    while True:\n",
    "        current_value *= factor\n",
    "        current_value %= 2147483647\n",
    "        \n",
    "        if not current_value % multiples:\n",
    "            yield current_value & 0xffff\n",
    "        \n",
    "def judge(generator_A, generator_B):\n",
    "    total = 0\n",
    "    trials = 5000000\n",
    "    \n",
    "    for i in range(trials):\n",
    "        if next(generator_A) == next(generator_B):\n",
    "            total += 1\n",
    "\n",
    "    return total"
   ]
  },
  {
   "cell_type": "code",
   "execution_count": 64,
   "metadata": {},
   "outputs": [
    {
     "name": "stdout",
     "output_type": "stream",
     "text": [
      "Test passed\n",
      "Wall time: 24.1 s\n"
     ]
    }
   ],
   "source": [
    "%%time\n",
    "gen_A = generator(test_input[0], 16807, 4)\n",
    "gen_B = generator(test_input[1], 48271, 8)\n",
    "assert(judge(gen_A, gen_B) == 309)\n",
    "print(\"Test passed\")"
   ]
  },
  {
   "cell_type": "code",
   "execution_count": 14,
   "metadata": {},
   "outputs": [
    {
     "data": {
      "text/plain": [
       "328"
      ]
     },
     "execution_count": 14,
     "metadata": {},
     "output_type": "execute_result"
    }
   ],
   "source": [
    "gen_A = generator(my_input[0], 16807, 4)\n",
    "gen_B = generator(my_input[1], 48271, 8)\n",
    "judge(gen_A, gen_B)"
   ]
  }
 ],
 "metadata": {
  "kernelspec": {
   "display_name": "Python 3",
   "language": "python",
   "name": "python3"
  },
  "language_info": {
   "codemirror_mode": {
    "name": "ipython",
    "version": 3
   },
   "file_extension": ".py",
   "mimetype": "text/x-python",
   "name": "python",
   "nbconvert_exporter": "python",
   "pygments_lexer": "ipython3",
   "version": "3.6.1"
  }
 },
 "nbformat": 4,
 "nbformat_minor": 2
}
