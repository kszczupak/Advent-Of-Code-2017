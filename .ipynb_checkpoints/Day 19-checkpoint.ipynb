{
 "cells": [
  {
   "cell_type": "code",
   "execution_count": 1,
   "metadata": {},
   "outputs": [],
   "source": [
    "my_input = \"day19_my_input.txt\"\n",
    "test_input = \"day19_test_input.txt\""
   ]
  },
  {
   "cell_type": "code",
   "execution_count": 71,
   "metadata": {},
   "outputs": [],
   "source": [
    "from operator import add\n",
    "\n",
    "class Tubes:\n",
    "    def __init__(self, diagram_file):\n",
    "        self._diagram = self._load_diagram(diagram_file)\n",
    "        self._diagram_height = len(self._diagram)\n",
    "        self._diagram_width = len(self._diagram[0])\n",
    "        self._start_point = self._get_start_point()\n",
    "        self.steps_count = 1\n",
    "        self.collected_letters = self._traverse_diagram()\n",
    "        \n",
    "    def _traverse_diagram(self):\n",
    "        letters = ''\n",
    "        \n",
    "        direction = (1, 0)\n",
    "        previous_position = self._start_point\n",
    "        \n",
    "        while True:\n",
    "            \n",
    "            current_position = list(map(add, previous_position, direction))\n",
    "            \n",
    "            current_char_on_path = self._diagram[current_position[0]][current_position[1]]\n",
    "            \n",
    "            if current_char_on_path == '+':\n",
    "                # change direction\n",
    "                # might raise EndOfMaze\n",
    "                direction = self._change_direction(current_position, previous_position)\n",
    "            elif current_char_on_path in ['|', '-']:\n",
    "                # do not change direction\n",
    "                pass\n",
    "            elif current_char_on_path == \" \":\n",
    "                # end of mazze\n",
    "                break\n",
    "            else:\n",
    "                # letter found; don't change direction\n",
    "                # might also refer to this situation:\n",
    "                # |\n",
    "                # ---\n",
    "                # this is not covered\n",
    "                letters += current_char_on_path\n",
    "                       \n",
    "            previous_position = current_position\n",
    "            self.steps_count += 1\n",
    "                    \n",
    "        return letters\n",
    "    \n",
    "    def _change_direction(self, current_position, previous_position):\n",
    "        neighbours = list()\n",
    "        \n",
    "        for neighbour in self._potential_neighbours(current_position):\n",
    "            if neighbour[0] < 0 or neighbour[1] < 0:\n",
    "                continue\n",
    "            \n",
    "            if neighbour[0] >= self._diagram_height or neighbour[1] >= self._diagram_width:\n",
    "                continue\n",
    "            \n",
    "            if self._diagram[neighbour[0]][neighbour[1]] != \" \" and neighbour != tuple(previous_position):\n",
    "                neighbours.append(neighbour)\n",
    "                \n",
    "        assert(len(neighbours) < 2)\n",
    "        assert(len(neighbours) != 0)\n",
    "        \n",
    "        next_position = neighbours[0]\n",
    "        return next_position[0] - current_position[0], next_position[1] - current_position[1] \n",
    "    \n",
    "    def _potential_neighbours(self, position):\n",
    "        yield position[0] + 1, position[1]\n",
    "        yield position[0] - 1, position[1]\n",
    "        yield position[0], position[1] + 1\n",
    "        yield position[0], position[1] - 1\n",
    "        \n",
    "    def _load_diagram(self, diagram_file):\n",
    "        diagram = list()\n",
    "        with open(diagram_file) as f:\n",
    "            for line in f:\n",
    "                diagram.append(list(line))\n",
    "        \n",
    "        return diagram\n",
    "                \n",
    "    def _get_start_point(self):\n",
    "        return 0, self._diagram[0].index('|')"
   ]
  },
  {
   "cell_type": "markdown",
   "metadata": {},
   "source": [
    "## Part 1"
   ]
  },
  {
   "cell_type": "code",
   "execution_count": 72,
   "metadata": {},
   "outputs": [
    {
     "name": "stdout",
     "output_type": "stream",
     "text": [
      "Test passed\n"
     ]
    }
   ],
   "source": [
    "assert(Tubes(test_input).collected_letters == \"ABCDEF\")\n",
    "print(\"Test passed\")"
   ]
  },
  {
   "cell_type": "code",
   "execution_count": 73,
   "metadata": {},
   "outputs": [
    {
     "data": {
      "text/plain": [
       "'FEZDNIVJWT'"
      ]
     },
     "execution_count": 73,
     "metadata": {},
     "output_type": "execute_result"
    }
   ],
   "source": [
    "Tubes(my_input).collected_letters"
   ]
  },
  {
   "cell_type": "markdown",
   "metadata": {},
   "source": [
    "## Part 2"
   ]
  },
  {
   "cell_type": "code",
   "execution_count": 74,
   "metadata": {},
   "outputs": [
    {
     "name": "stdout",
     "output_type": "stream",
     "text": [
      "Test passed\n"
     ]
    }
   ],
   "source": [
    "assert(Tubes(test_input).steps_count == 38)\n",
    "print(\"Test passed\")"
   ]
  },
  {
   "cell_type": "code",
   "execution_count": 75,
   "metadata": {},
   "outputs": [
    {
     "data": {
      "text/plain": [
       "17200"
      ]
     },
     "execution_count": 75,
     "metadata": {},
     "output_type": "execute_result"
    }
   ],
   "source": [
    "Tubes(my_input).steps_count"
   ]
  },
  {
   "cell_type": "code",
   "execution_count": null,
   "metadata": {},
   "outputs": [],
   "source": []
  }
 ],
 "metadata": {
  "kernelspec": {
   "display_name": "Python 3",
   "language": "python",
   "name": "python3"
  },
  "language_info": {
   "codemirror_mode": {
    "name": "ipython",
    "version": 3
   },
   "file_extension": ".py",
   "mimetype": "text/x-python",
   "name": "python",
   "nbconvert_exporter": "python",
   "pygments_lexer": "ipython3",
   "version": "3.6.1"
  }
 },
 "nbformat": 4,
 "nbformat_minor": 2
}
