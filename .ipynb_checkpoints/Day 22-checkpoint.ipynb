{
 "cells": [
  {
   "cell_type": "code",
   "execution_count": 1,
   "metadata": {},
   "outputs": [],
   "source": [
    "my_input = \"day22_my_input.txt\"\n",
    "test_input = \"day22_test_input.txt\""
   ]
  },
  {
   "cell_type": "code",
   "execution_count": 68,
   "metadata": {},
   "outputs": [],
   "source": [
    "from operator import add\n",
    "\n",
    "class VirusCarrier:\n",
    "    def __init__(self, init_position):\n",
    "        self._position = init_position\n",
    "        self._absolute_direction = \"UP\"\n",
    "        \n",
    "        self._directions_map = {\n",
    "            \"UP\": (-1, 0),\n",
    "            \"DOWN\": (1, 0),\n",
    "            \"LEFT\": (0, -1),\n",
    "            \"RIGHT\": (0, 1)\n",
    "        }\n",
    "        \n",
    "        self._left_turn_map = {\n",
    "            \"UP\": \"LEFT\",\n",
    "            \"DOWN\": \"RIGHT\",\n",
    "            \"LEFT\": \"DOWN\",\n",
    "            \"RIGHT\": \"UP\"\n",
    "        }\n",
    "        \n",
    "        self._right_turn_map = {\n",
    "            \"UP\": \"RIGHT\",\n",
    "            \"DOWN\": \"LEFT\",\n",
    "            \"LEFT\": \"UP\",\n",
    "            \"RIGHT\": \"DOWN\"\n",
    "        }\n",
    "        \n",
    "    @property\n",
    "    def position(self):\n",
    "        return self._position\n",
    "        \n",
    "    def turn_left(self):\n",
    "        self._absolute_direction = self._left_turn_map[self._absolute_direction]\n",
    "    \n",
    "    def turn_right(self):\n",
    "        self._absolute_direction = self._right_turn_map[self._absolute_direction]\n",
    "    \n",
    "    def move(self):\n",
    "        self._position = tuple(map(add,\n",
    "                                   self._position,\n",
    "                                   self._directions_map[self._absolute_direction]))"
   ]
  },
  {
   "cell_type": "markdown",
   "metadata": {},
   "source": [
    "## Part 1"
   ]
  },
  {
   "cell_type": "code",
   "execution_count": 67,
   "metadata": {},
   "outputs": [],
   "source": [
    "class InfectionSimulation:\n",
    "    def __init__(self, data_file, bursts=5):\n",
    "        self._infected_nodes, self._start_node = self._load_grid(data_file)\n",
    "        self._infected_by_carrier = 0\n",
    "        self._simulate_infection(bursts)\n",
    "        \n",
    "    @property\n",
    "    def infected_by_carrier(self):\n",
    "        return self._infected_by_carrier\n",
    "    \n",
    "    def _load_grid(self, data_file):\n",
    "        infected_nodes = set()\n",
    "        \n",
    "        with open(data_file) as f:\n",
    "            for row, line in enumerate(f):\n",
    "                for column, char in enumerate(line):\n",
    "                    if char == \"#\":\n",
    "                        infected_node = (row, column)\n",
    "                        infected_nodes.add(infected_node)\n",
    "        \n",
    "        return infected_nodes, (row // 2, column // 2)\n",
    "    \n",
    "    def _simulate_infection(self, bursts):\n",
    "        carrier = VirusCarrier(self._start_node)\n",
    "        \n",
    "        for burst in range(bursts):\n",
    "            current_node = carrier.position\n",
    "            \n",
    "            if current_node in self._infected_nodes:\n",
    "                self._infected_nodes.remove(current_node)\n",
    "                carrier.turn_right()\n",
    "            else:\n",
    "                self._infected_nodes.add(current_node)\n",
    "                self._infected_by_carrier += 1\n",
    "                carrier.turn_left()\n",
    "            \n",
    "            carrier.move()"
   ]
  },
  {
   "cell_type": "code",
   "execution_count": 69,
   "metadata": {},
   "outputs": [
    {
     "name": "stdout",
     "output_type": "stream",
     "text": [
      "Tests passed\n"
     ]
    }
   ],
   "source": [
    "assert(InfectionSimulation(test_input, bursts=70).infected_by_carrier == 41)\n",
    "assert(InfectionSimulation(test_input, bursts=10000).infected_by_carrier == 5587)\n",
    "print(\"Tests passed\")"
   ]
  },
  {
   "cell_type": "code",
   "execution_count": 70,
   "metadata": {},
   "outputs": [
    {
     "data": {
      "text/plain": [
       "5552"
      ]
     },
     "execution_count": 70,
     "metadata": {},
     "output_type": "execute_result"
    }
   ],
   "source": [
    "InfectionSimulation(my_input, bursts=10000).infected_by_carrier"
   ]
  },
  {
   "cell_type": "code",
   "execution_count": null,
   "metadata": {},
   "outputs": [],
   "source": []
  }
 ],
 "metadata": {
  "kernelspec": {
   "display_name": "Python 3",
   "language": "python",
   "name": "python3"
  },
  "language_info": {
   "codemirror_mode": {
    "name": "ipython",
    "version": 3
   },
   "file_extension": ".py",
   "mimetype": "text/x-python",
   "name": "python",
   "nbconvert_exporter": "python",
   "pygments_lexer": "ipython3",
   "version": "3.6.1"
  }
 },
 "nbformat": 4,
 "nbformat_minor": 2
}
