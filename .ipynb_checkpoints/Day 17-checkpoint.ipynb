{
 "cells": [
  {
   "cell_type": "code",
   "execution_count": 1,
   "metadata": {},
   "outputs": [],
   "source": [
    "my_input = 366\n",
    "test_input = 3"
   ]
  },
  {
   "cell_type": "code",
   "execution_count": 7,
   "metadata": {},
   "outputs": [],
   "source": [
    "class Spinlock:\n",
    "    def __init__(self, step_size):\n",
    "        self._step_size = step_size\n",
    "        self._buffer = list()\n",
    "        \n",
    "    def get_first_after_last_written(self, end_value=2017):\n",
    "        self._buffer.append(0)\n",
    "        current_position = 0\n",
    "        value_to_insert = 1\n",
    "        \n",
    "        while value_to_insert <= end_value:              \n",
    "            current_position = (current_position + self._step_size) % len(self._buffer)\n",
    "            current_position += 1\n",
    "            self._buffer.insert(current_position, value_to_insert)\n",
    "            \n",
    "            value_to_insert += 1\n",
    "            \n",
    "        return self._buffer[current_position + 1]\n",
    "    \n",
    "    def get_first_after_zero(self, end_value=50000000):\n",
    "        current_position = 0\n",
    "        value_to_insert = 1\n",
    "        first_after_zero = None\n",
    "        \n",
    "        while value_to_insert <= end_value:\n",
    "            current_position = (current_position + self._step_size) % value_to_insert\n",
    "            current_position += 1\n",
    "            \n",
    "            if current_position == 1:\n",
    "                first_after_zero = value_to_insert\n",
    "            \n",
    "            value_to_insert += 1\n",
    "            \n",
    "        return first_after_zero"
   ]
  },
  {
   "cell_type": "markdown",
   "metadata": {},
   "source": [
    "## Part 1"
   ]
  },
  {
   "cell_type": "code",
   "execution_count": 8,
   "metadata": {},
   "outputs": [
    {
     "name": "stdout",
     "output_type": "stream",
     "text": [
      "Test passed\n"
     ]
    }
   ],
   "source": [
    "assert(Spinlock(test_input).get_first_after_last_written() == 638)\n",
    "print(\"Test passed\")"
   ]
  },
  {
   "cell_type": "code",
   "execution_count": 9,
   "metadata": {},
   "outputs": [
    {
     "data": {
      "text/plain": [
       "1025"
      ]
     },
     "execution_count": 9,
     "metadata": {},
     "output_type": "execute_result"
    }
   ],
   "source": [
    "Spinlock(my_input).get_first_after_last_written()"
   ]
  },
  {
   "cell_type": "markdown",
   "metadata": {},
   "source": [
    "## Part 2"
   ]
  },
  {
   "cell_type": "code",
   "execution_count": 10,
   "metadata": {},
   "outputs": [
    {
     "name": "stdout",
     "output_type": "stream",
     "text": [
      "Test passed\n"
     ]
    }
   ],
   "source": [
    "assert(Spinlock(test_input).get_first_after_zero(end_value=2017) == 1226)\n",
    "print(\"Test passed\")"
   ]
  },
  {
   "cell_type": "code",
   "execution_count": 12,
   "metadata": {},
   "outputs": [
    {
     "data": {
      "text/plain": [
       "37803463"
      ]
     },
     "execution_count": 12,
     "metadata": {},
     "output_type": "execute_result"
    }
   ],
   "source": [
    "Spinlock(my_input).get_first_after_zero()"
   ]
  },
  {
   "cell_type": "code",
   "execution_count": null,
   "metadata": {},
   "outputs": [],
   "source": []
  }
 ],
 "metadata": {
  "kernelspec": {
   "display_name": "Python 3",
   "language": "python",
   "name": "python3"
  },
  "language_info": {
   "codemirror_mode": {
    "name": "ipython",
    "version": 3
   },
   "file_extension": ".py",
   "mimetype": "text/x-python",
   "name": "python",
   "nbconvert_exporter": "python",
   "pygments_lexer": "ipython3",
   "version": "3.6.1"
  }
 },
 "nbformat": 4,
 "nbformat_minor": 2
}
