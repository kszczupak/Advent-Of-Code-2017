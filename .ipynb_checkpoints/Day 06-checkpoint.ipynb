{
 "cells": [
  {
   "cell_type": "code",
   "execution_count": 14,
   "metadata": {},
   "outputs": [],
   "source": [
    "my_input = \"14\t0\t15\t12\t11\t11\t3\t5\t1\t6\t8\t4\t9\t1\t8\t4\""
   ]
  },
  {
   "cell_type": "markdown",
   "metadata": {},
   "source": [
    "## Part 1"
   ]
  },
  {
   "cell_type": "code",
   "execution_count": 19,
   "metadata": {},
   "outputs": [],
   "source": [
    "def count_redistribution_cycles(data):\n",
    "    banks = data.split(\"\\t\")\n",
    "    banks = list(map(int, banks))\n",
    "    \n",
    "    cycles_count = 0\n",
    "    visited_cycles = set()\n",
    "    \n",
    "    while True:\n",
    "        current_cycle = tuple(banks)\n",
    "        \n",
    "        if current_cycle in visited_cycles:\n",
    "            return cycles_count\n",
    "        \n",
    "        visited_cycles.add(current_cycle)\n",
    "        \n",
    "        redistribution_cycle(banks)\n",
    "        cycles_count += 1\n",
    "    \n",
    "def redistribution_cycle(banks):\n",
    "    remaining_value = max(banks)\n",
    "    current_index = banks.index(remaining_value)\n",
    "    banks[current_index] = 0\n",
    "    \n",
    "    while remaining_value > 0:\n",
    "        current_index = (current_index + 1) % len(banks)\n",
    "        banks[current_index] += 1\n",
    "        \n",
    "        remaining_value -= 1"
   ]
  },
  {
   "cell_type": "code",
   "execution_count": 20,
   "metadata": {},
   "outputs": [
    {
     "name": "stdout",
     "output_type": "stream",
     "text": [
      "Test passed\n"
     ]
    }
   ],
   "source": [
    "test_input = \"0\t2\t7\t0\"\n",
    "assert(count_redistribution_cycles(test_input) == 5)\n",
    "print(\"Test passed\")"
   ]
  },
  {
   "cell_type": "code",
   "execution_count": 21,
   "metadata": {},
   "outputs": [
    {
     "data": {
      "text/plain": [
       "11137"
      ]
     },
     "execution_count": 21,
     "metadata": {},
     "output_type": "execute_result"
    }
   ],
   "source": [
    "count_redistribution_cycles(my_input)"
   ]
  },
  {
   "cell_type": "markdown",
   "metadata": {},
   "source": [
    "## Part 2"
   ]
  },
  {
   "cell_type": "code",
   "execution_count": 24,
   "metadata": {},
   "outputs": [],
   "source": [
    "def count_redistribution_cycles(data):\n",
    "    banks = data.split(\"\\t\")\n",
    "    banks = list(map(int, banks))\n",
    "    \n",
    "    cycles_count = 0\n",
    "    visited_cycles = dict()\n",
    "    \n",
    "    while True:\n",
    "        current_cycle = tuple(banks)\n",
    "        \n",
    "        if current_cycle in visited_cycles:\n",
    "            return cycles_count - visited_cycles[current_cycle]\n",
    "        \n",
    "        visited_cycles[current_cycle] = cycles_count\n",
    "        \n",
    "        redistribution_cycle(banks)\n",
    "        cycles_count += 1"
   ]
  },
  {
   "cell_type": "code",
   "execution_count": 25,
   "metadata": {},
   "outputs": [
    {
     "name": "stdout",
     "output_type": "stream",
     "text": [
      "Test passed\n"
     ]
    }
   ],
   "source": [
    "test_input = \"0\t2\t7\t0\"\n",
    "assert(count_redistribution_cycles(test_input) == 4)\n",
    "print(\"Test passed\")"
   ]
  },
  {
   "cell_type": "code",
   "execution_count": 26,
   "metadata": {},
   "outputs": [
    {
     "data": {
      "text/plain": [
       "1037"
      ]
     },
     "execution_count": 26,
     "metadata": {},
     "output_type": "execute_result"
    }
   ],
   "source": [
    "count_redistribution_cycles(my_input)"
   ]
  }
 ],
 "metadata": {
  "kernelspec": {
   "display_name": "Python 3",
   "language": "python",
   "name": "python3"
  },
  "language_info": {
   "codemirror_mode": {
    "name": "ipython",
    "version": 3
   },
   "file_extension": ".py",
   "mimetype": "text/x-python",
   "name": "python",
   "nbconvert_exporter": "python",
   "pygments_lexer": "ipython3",
   "version": "3.6.1"
  }
 },
 "nbformat": 4,
 "nbformat_minor": 2
}
