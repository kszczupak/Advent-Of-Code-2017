{
 "cells": [
  {
   "cell_type": "code",
   "execution_count": 15,
   "metadata": {},
   "outputs": [],
   "source": [
    "my_input = 361527\n",
    "from itertools import cycle"
   ]
  },
  {
   "cell_type": "code",
   "execution_count": 19,
   "metadata": {},
   "outputs": [],
   "source": [
    "def manhatan_distance(value):\n",
    "    positions_map = dict(gen_points(value))\n",
    "    pos = positions_map[value]\n",
    "    return abs(pos[0]) + abs(pos[1])\n",
    "\n",
    "def move_right(x,y):\n",
    "    return x+1, y\n",
    "\n",
    "def move_down(x,y):\n",
    "    return x,y-1\n",
    "\n",
    "def move_left(x,y):\n",
    "    return x-1,y\n",
    "\n",
    "def move_up(x,y):\n",
    "    return x,y+1\n",
    "\n",
    "moves = [move_right, move_up, move_left, move_down]\n",
    "\n",
    "def gen_points(end):\n",
    "    _moves = cycle(moves)\n",
    "    value = 1\n",
    "    pos = 0,0\n",
    "    times_to_move = 1\n",
    "\n",
    "    yield value, pos\n",
    "\n",
    "    while True:\n",
    "        for _ in range(2):\n",
    "            move = next(_moves)\n",
    "            for _ in range(times_to_move):\n",
    "                if value >= end:\n",
    "                    return\n",
    "                pos = move(*pos)\n",
    "                value += 1\n",
    "                yield value, pos\n",
    "\n",
    "        times_to_move += 1"
   ]
  },
  {
   "cell_type": "code",
   "execution_count": 20,
   "metadata": {},
   "outputs": [
    {
     "name": "stdout",
     "output_type": "stream",
     "text": [
      "Tests passed\n"
     ]
    }
   ],
   "source": [
    "assert(manhatan_distance(1) == 0)\n",
    "assert(manhatan_distance(12) == 3)\n",
    "assert(manhatan_distance(23) == 2)\n",
    "assert(manhatan_distance(1024) == 31)\n",
    "print(\"Tests passed\")"
   ]
  },
  {
   "cell_type": "code",
   "execution_count": 21,
   "metadata": {},
   "outputs": [
    {
     "data": {
      "text/plain": [
       "326"
      ]
     },
     "execution_count": 21,
     "metadata": {},
     "output_type": "execute_result"
    }
   ],
   "source": [
    "manhatan_distance(my_input)"
   ]
  },
  {
   "cell_type": "code",
   "execution_count": 12,
   "metadata": {},
   "outputs": [
    {
     "data": {
      "text/plain": [
       "1"
      ]
     },
     "execution_count": 12,
     "metadata": {},
     "output_type": "execute_result"
    }
   ],
   "source": [
    "next(a())"
   ]
  },
  {
   "cell_type": "code",
   "execution_count": null,
   "metadata": {},
   "outputs": [],
   "source": []
  }
 ],
 "metadata": {
  "kernelspec": {
   "display_name": "Python 3",
   "language": "python",
   "name": "python3"
  },
  "language_info": {
   "codemirror_mode": {
    "name": "ipython",
    "version": 3
   },
   "file_extension": ".py",
   "mimetype": "text/x-python",
   "name": "python",
   "nbconvert_exporter": "python",
   "pygments_lexer": "ipython3",
   "version": "3.6.1"
  }
 },
 "nbformat": 4,
 "nbformat_minor": 2
}
