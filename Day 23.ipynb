{
 "cells": [
  {
   "cell_type": "code",
   "execution_count": 3,
   "metadata": {},
   "outputs": [],
   "source": [
    "my_input = \"day23_my_input.txt\""
   ]
  },
  {
   "cell_type": "markdown",
   "metadata": {},
   "source": [
    "## Part 1"
   ]
  },
  {
   "cell_type": "code",
   "execution_count": 58,
   "metadata": {},
   "outputs": [],
   "source": [
    "from collections import defaultdict\n",
    "\n",
    "class Coprocessor :\n",
    "    def __init__(self, data_file):\n",
    "        self._instructions = self._discover_instructions(data_file)\n",
    "        self._registers = defaultdict(int)\n",
    "        self._seen_states = set()\n",
    "        self._mul_counter = 0\n",
    "        self._perform_instructions()\n",
    "        \n",
    "    @property\n",
    "    def mul_operation_count(self):\n",
    "        return self._mul_counter\n",
    "        \n",
    "    def _discover_instructions(self, data_file):\n",
    "        instructions_list = list()\n",
    "        \n",
    "        with open(data_file) as f:\n",
    "            for instruction in f:\n",
    "                if instruction.startswith(\"sub\"):\n",
    "                    action = [self._decrease]\n",
    "                elif instruction.startswith(\"set\"):\n",
    "                    action = [self._set]\n",
    "                elif instruction.startswith(\"mul\"):\n",
    "                    action = [self._multiply]\n",
    "                elif instruction.startswith(\"jnz\"):\n",
    "                    action = [self._jump]\n",
    "                else:\n",
    "                    print(f\"Not found instruction: {instruction}\")\n",
    "                    raise NotImplementedError()\n",
    "\n",
    "                action += self._get_action_arguments(instruction)\n",
    "\n",
    "                instructions_list.append(action)\n",
    "            \n",
    "        return instructions_list\n",
    "    \n",
    "    def _perform_instructions(self):\n",
    "        i = 0\n",
    "        while i < len(self._instructions):\n",
    "            action, *args = self._instructions[i]\n",
    "            i += action(*args)\n",
    "    \n",
    "    def _set(self, register, value):\n",
    "        self._registers[register] = value if isinstance(value, int) else self._registers[value]\n",
    "        return 1\n",
    "    \n",
    "    def _decrease(self, register, value):\n",
    "        self._registers[register] -= value if isinstance(value, int) else self._registers[value]\n",
    "        return 1\n",
    "    \n",
    "    def _multiply(self, register, value):\n",
    "        self._registers[register] *= value if isinstance(value, int) else self._registers[value]\n",
    "        self._mul_counter += 1\n",
    "        return 1\n",
    "    \n",
    "    def _jump(self, register, value):\n",
    "        register_value = register if isinstance(register, int) else self._registers[register]\n",
    "        \n",
    "        if  register_value == 0:\n",
    "            value_to_jump = 1\n",
    "        else:\n",
    "            value_to_jump = value if isinstance(value, int) else self._registers[value]\n",
    "            \n",
    "        return value_to_jump\n",
    "    \n",
    "    def _get_action_arguments(self, instruction):\n",
    "        args = list()\n",
    "        \n",
    "        for argument in instruction[4:].strip().split(\" \"):\n",
    "            try:\n",
    "                argument = int(argument)\n",
    "            except ValueError:\n",
    "                pass\n",
    "            \n",
    "            args.append(argument)\n",
    "        \n",
    "        return args"
   ]
  },
  {
   "cell_type": "code",
   "execution_count": 59,
   "metadata": {},
   "outputs": [
    {
     "data": {
      "text/plain": [
       "3025"
      ]
     },
     "execution_count": 59,
     "metadata": {},
     "output_type": "execute_result"
    }
   ],
   "source": [
    "Coprocessor(my_input).mul_operation_count"
   ]
  },
  {
   "cell_type": "markdown",
   "metadata": {},
   "source": [
    "## Part 2"
   ]
  },
  {
   "cell_type": "code",
   "execution_count": 60,
   "metadata": {},
   "outputs": [
    {
     "name": "stdout",
     "output_type": "stream",
     "text": [
      "915\n"
     ]
    }
   ],
   "source": [
    "init_b = 57\n",
    "b = init_b * 100 + 100000\n",
    "c = b + 17000\n",
    "h = 0\n",
    "\n",
    "def is_prime(x):\n",
    "    for i in range(3, x):\n",
    "        if x % i == 0:\n",
    "            return False\n",
    "    return True\n",
    "\n",
    "for x in range(b, c + 1, 17):\n",
    "    if not is_prime(x):\n",
    "        h += 1\n",
    "        \n",
    "print(h)"
   ]
  },
  {
   "cell_type": "code",
   "execution_count": null,
   "metadata": {},
   "outputs": [],
   "source": []
  }
 ],
 "metadata": {
  "kernelspec": {
   "display_name": "Python 3",
   "language": "python",
   "name": "python3"
  },
  "language_info": {
   "codemirror_mode": {
    "name": "ipython",
    "version": 3
   },
   "file_extension": ".py",
   "mimetype": "text/x-python",
   "name": "python",
   "nbconvert_exporter": "python",
   "pygments_lexer": "ipython3",
   "version": "3.6.1"
  }
 },
 "nbformat": 4,
 "nbformat_minor": 2
}
