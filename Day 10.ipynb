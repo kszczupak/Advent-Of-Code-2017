{
 "cells": [
  {
   "cell_type": "code",
   "execution_count": 1,
   "metadata": {},
   "outputs": [],
   "source": [
    "my_input = \"83,0,193,1,254,237,187,40,88,27,2,255,149,29,42,100\""
   ]
  },
  {
   "cell_type": "markdown",
   "metadata": {},
   "source": [
    "## Part 1"
   ]
  },
  {
   "cell_type": "code",
   "execution_count": 121,
   "metadata": {},
   "outputs": [],
   "source": [
    "class KnotHash:\n",
    "    def __init__(self, lengths, hash_list_size):\n",
    "        self._lengths = list(map(int, lengths.split(\",\")))\n",
    "        self._hashing_list_size = hash_list_size\n",
    "        self._hashing_list = list(range(hash_list_size))\n",
    "        self._hash_input()\n",
    "#         print(self._hashing_list)\n",
    "        \n",
    "    def multiply_first_two_elements(self):\n",
    "        return self._hashing_list[0] * self._hashing_list[1]\n",
    "    \n",
    "    def _hash_input(self):\n",
    "        skip_size = 0\n",
    "        current_position = 0\n",
    "        \n",
    "        for length in self._lengths:\n",
    "            start_index = current_position\n",
    "            end_index = self._get_circular_index(start_index + length)\n",
    "            \n",
    "            if length:\n",
    "                self._reorder_hashing_list(start_index, end_index)\n",
    "#             print(f\"start_index: {start_index}; end_index: {end_index}\")\n",
    "#             print(f\"skip_size: {skip_size}; length: {length}\")\n",
    "#             print(self._hashing_list)\n",
    "            \n",
    "            current_position = self._get_circular_index(current_position + length + skip_size)\n",
    "            skip_size += 1\n",
    "    \n",
    "    def _reorder_hashing_list(self, start_index, end_index):\n",
    "            if start_index < end_index:\n",
    "                selection = self._hashing_list[start_index : end_index]\n",
    "                self._hashing_list = self._hashing_list[: start_index] +\\\n",
    "                                     list(reversed(selection)) +\\\n",
    "                                     self._hashing_list[end_index :]\n",
    "            else:\n",
    "                selection = self._hashing_list[start_index :] + self._hashing_list[: end_index]\n",
    "                selection_break_point = len(self._hashing_list[start_index :])\n",
    "                reversed_selection = list(reversed(selection))\n",
    "                self._hashing_list = reversed_selection[selection_break_point :] +\\\n",
    "                                     self._hashing_list[end_index : start_index] +\\\n",
    "                                     reversed_selection[: selection_break_point]\n",
    "                    \n",
    "            assert(len(self._hashing_list) == self._hashing_list_size)\n",
    "    \n",
    "    def _get_circular_index(self, index):\n",
    "        return index % len(self._hashing_list)"
   ]
  },
  {
   "cell_type": "code",
   "execution_count": 122,
   "metadata": {},
   "outputs": [
    {
     "name": "stdout",
     "output_type": "stream",
     "text": [
      "Test passed\n"
     ]
    }
   ],
   "source": [
    "test_input = \"3, 4, 1, 5\"\n",
    "k = KnotHash(test_input, 5)\n",
    "assert(k.multiply_first_two_elements() == 12)\n",
    "print(\"Test passed\")"
   ]
  },
  {
   "cell_type": "code",
   "execution_count": 123,
   "metadata": {},
   "outputs": [
    {
     "data": {
      "text/plain": [
       "20056"
      ]
     },
     "execution_count": 123,
     "metadata": {},
     "output_type": "execute_result"
    }
   ],
   "source": [
    "KnotHash(my_input, 256).multiply_first_two_elements()"
   ]
  },
  {
   "cell_type": "markdown",
   "metadata": {},
   "source": [
    "## Part 2"
   ]
  },
  {
   "cell_type": "code",
   "execution_count": 172,
   "metadata": {},
   "outputs": [],
   "source": [
    "class KnotHash:\n",
    "    def __init__(self, ascii_string, hash_list_size=256):\n",
    "        self._lengths = self._convert_to_ascii_codes(ascii_string)\n",
    "        self._add_lengths_suffix()\n",
    "        self._hashing_list = list(range(hash_list_size))\n",
    "        self._sparse_hash = self._full_hash_cycle()\n",
    "        self._dense_hash = self._get_dense_hash()\n",
    "        self.hex_string = self._to_hex_string()\n",
    "        \n",
    "    def _to_hex_string(self):\n",
    "        hex_list = list()\n",
    "        \n",
    "        for h in self._dense_hash:\n",
    "            hex_representation = hex(h)[2:]\n",
    "            if len(hex_representation) < 2:\n",
    "                hex_representation = '0' + hex_representation\n",
    "                \n",
    "            hex_list.append(hex_representation)\n",
    "            \n",
    "        return \"\".join(hex_list)\n",
    "    \n",
    "    def _get_dense_hash(self):\n",
    "        dense_hash_lenght = 16\n",
    "        dense_hash = list()\n",
    "        \n",
    "        for i in range(dense_hash_lenght):\n",
    "            start_index = i * dense_hash_lenght\n",
    "            end_index = start_index + dense_hash_lenght\n",
    "            \n",
    "            current_slice = self._sparse_hash[start_index : end_index]\n",
    "            xor = 0\n",
    "            \n",
    "            for element in current_slice:\n",
    "                xor ^= element\n",
    "            \n",
    "            dense_hash.append(xor) \n",
    "        \n",
    "        return dense_hash\n",
    "         \n",
    "    def _convert_to_ascii_codes(self, ascii_string):\n",
    "        return list(map(ord, list(ascii_string)))\n",
    "    \n",
    "    def _add_lengths_suffix(self):\n",
    "        suffix = [17, 31, 73, 47, 23]\n",
    "        self._lengths += suffix\n",
    "    \n",
    "    def _full_hash_cycle(self):\n",
    "        skip_size = 0\n",
    "        current_position = 0\n",
    "        rounds = 64\n",
    "        \n",
    "        for _ in range(rounds):\n",
    "            current_position, skip_size = self._single_hash_round(current_position, skip_size)\n",
    "            \n",
    "        return self._hashing_list\n",
    "        \n",
    "    def _single_hash_round(self, current_position, skip_size):\n",
    "        for length in self._lengths:\n",
    "            start_index = current_position\n",
    "            end_index = self._get_circular_index(start_index + length)\n",
    "            \n",
    "            if length:\n",
    "                self._reorder_hashing_list(start_index, end_index)\n",
    "            \n",
    "            current_position = self._get_circular_index(current_position + length + skip_size)\n",
    "            skip_size += 1\n",
    "        \n",
    "        return current_position, skip_size\n",
    "    \n",
    "    def _reorder_hashing_list(self, start_index, end_index):\n",
    "            if start_index < end_index:\n",
    "                selection = self._hashing_list[start_index : end_index]\n",
    "                self._hashing_list = self._hashing_list[: start_index] +\\\n",
    "                                     list(reversed(selection)) +\\\n",
    "                                     self._hashing_list[end_index :]\n",
    "            else:\n",
    "                selection = self._hashing_list[start_index :] + self._hashing_list[: end_index]\n",
    "                selection_break_point = len(self._hashing_list[start_index :])\n",
    "                reversed_selection = list(reversed(selection))\n",
    "                self._hashing_list = reversed_selection[selection_break_point :] +\\\n",
    "                                     self._hashing_list[end_index : start_index] +\\\n",
    "                                     reversed_selection[: selection_break_point]\n",
    "    \n",
    "    def _get_circular_index(self, index):\n",
    "        return index % len(self._hashing_list)"
   ]
  },
  {
   "cell_type": "code",
   "execution_count": 175,
   "metadata": {},
   "outputs": [
    {
     "name": "stdout",
     "output_type": "stream",
     "text": [
      "Test passed\n"
     ]
    }
   ],
   "source": [
    "assert(KnotHash(\"\").hex_string == \"a2582a3a0e66e6e86e3812dcb672a272\")\n",
    "assert(KnotHash(\"AoC 2017\").hex_string == \"33efeb34ea91902bb2f59c9920caa6cd\")\n",
    "assert(KnotHash(\"1,2,3\").hex_string == \"3efbe78a8d82f29979031a4aa0b16a9d\")\n",
    "assert(KnotHash(\"1,2,4\").hex_string == \"63960835bcdc130f0b66d7ff4f6a5a8e\")\n",
    "print(\"Test passed\")"
   ]
  },
  {
   "cell_type": "code",
   "execution_count": 174,
   "metadata": {},
   "outputs": [
    {
     "data": {
      "text/plain": [
       "'d9a7de4a809c56bf3a9465cb84392c8e'"
      ]
     },
     "execution_count": 174,
     "metadata": {},
     "output_type": "execute_result"
    }
   ],
   "source": [
    "KnotHash(my_input).hex_string"
   ]
  }
 ],
 "metadata": {
  "kernelspec": {
   "display_name": "Python 3",
   "language": "python",
   "name": "python3"
  },
  "language_info": {
   "codemirror_mode": {
    "name": "ipython",
    "version": 3
   },
   "file_extension": ".py",
   "mimetype": "text/x-python",
   "name": "python",
   "nbconvert_exporter": "python",
   "pygments_lexer": "ipython3",
   "version": "3.6.1"
  }
 },
 "nbformat": 4,
 "nbformat_minor": 2
}
