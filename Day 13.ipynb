{
 "cells": [
  {
   "cell_type": "code",
   "execution_count": 3,
   "metadata": {},
   "outputs": [],
   "source": [
    "my_input = \"\"\"0: 3\n",
    "1: 2\n",
    "2: 6\n",
    "4: 4\n",
    "6: 4\n",
    "8: 8\n",
    "10: 9\n",
    "12: 8\n",
    "14: 5\n",
    "16: 6\n",
    "18: 8\n",
    "20: 6\n",
    "22: 12\n",
    "24: 6\n",
    "26: 12\n",
    "28: 8\n",
    "30: 8\n",
    "32: 10\n",
    "34: 12\n",
    "36: 12\n",
    "38: 8\n",
    "40: 12\n",
    "42: 12\n",
    "44: 14\n",
    "46: 12\n",
    "48: 14\n",
    "50: 12\n",
    "52: 12\n",
    "54: 12\n",
    "56: 10\n",
    "58: 14\n",
    "60: 14\n",
    "62: 14\n",
    "64: 14\n",
    "66: 17\n",
    "68: 14\n",
    "72: 14\n",
    "76: 14\n",
    "80: 14\n",
    "82: 14\n",
    "88: 18\n",
    "92: 14\n",
    "98: 18\"\"\""
   ]
  },
  {
   "cell_type": "code",
   "execution_count": 4,
   "metadata": {},
   "outputs": [],
   "source": [
    "test_input = \"\"\"0: 3\n",
    "1: 2\n",
    "4: 4\n",
    "6: 4\"\"\""
   ]
  },
  {
   "cell_type": "code",
   "execution_count": 22,
   "metadata": {},
   "outputs": [],
   "source": [
    "class CaughtException(Exception):\n",
    "    pass\n",
    "\n",
    "class Layer:\n",
    "    def __init__(self, layer_range):\n",
    "        self.range = layer_range\n",
    "            \n",
    "    def position_at(self, time):\n",
    "        offset = time % ((self.range - 1) * 2)\n",
    "\n",
    "        return 2 * (self.range - 1) - offset if offset > self.range - 1 else offset\n",
    "        \n",
    "class Firewall:\n",
    "    def __init__(self, data):\n",
    "        self._firewall = self._create_firewall(data)\n",
    "        self._size = self._get_firewall_size()\n",
    "        self.severity = self._get_trip_severity()\n",
    "        \n",
    "    def get_save_delay(self):\n",
    "        delay = 0\n",
    "        \n",
    "        while True:\n",
    "            try:\n",
    "                self._save_trip(delay)\n",
    "                return delay\n",
    "            except CaughtException:\n",
    "                delay += 1\n",
    "        \n",
    "        \n",
    "    def _get_trip_severity(self):\n",
    "        severity = 0\n",
    "        \n",
    "        for layer_number in range(self._size):\n",
    "            \n",
    "            if layer_number in self._firewall:\n",
    "                layer = self._firewall[layer_number]\n",
    "                if layer.position_at(layer_number) == 0:\n",
    "                    severity += layer_number * layer.range\n",
    "        \n",
    "        return severity\n",
    "    \n",
    "    def _save_trip(self, delay):\n",
    "        for layer_number in range(self._size):\n",
    "            \n",
    "            if layer_number in self._firewall:\n",
    "                layer = self._firewall[layer_number]\n",
    "                if layer.position_at(layer_number + delay) == 0:\n",
    "                    raise CaughtException()\n",
    "        \n",
    "    def _create_firewall(self, data):\n",
    "        firewall = dict()\n",
    "        \n",
    "        for row in data.splitlines():\n",
    "            layer, layer_range = list(map(int, row.split(\":\")))\n",
    "            firewall[layer] = Layer(layer_range)\n",
    "        \n",
    "        return firewall\n",
    "    \n",
    "    def _get_firewall_size(self):\n",
    "        return max(self._firewall.keys()) + 1"
   ]
  },
  {
   "cell_type": "markdown",
   "metadata": {},
   "source": [
    "## Part 1"
   ]
  },
  {
   "cell_type": "code",
   "execution_count": 15,
   "metadata": {},
   "outputs": [
    {
     "name": "stdout",
     "output_type": "stream",
     "text": [
      "Test passed\n"
     ]
    }
   ],
   "source": [
    "assert(Firewall(test_input).severity == 24)\n",
    "print(\"Test passed\")"
   ]
  },
  {
   "cell_type": "code",
   "execution_count": 16,
   "metadata": {},
   "outputs": [
    {
     "data": {
      "text/plain": [
       "632"
      ]
     },
     "execution_count": 16,
     "metadata": {},
     "output_type": "execute_result"
    }
   ],
   "source": [
    "Firewall(my_input).severity"
   ]
  },
  {
   "cell_type": "markdown",
   "metadata": {},
   "source": [
    "## Part 2"
   ]
  },
  {
   "cell_type": "code",
   "execution_count": 17,
   "metadata": {},
   "outputs": [
    {
     "name": "stdout",
     "output_type": "stream",
     "text": [
      "Test passed\n"
     ]
    }
   ],
   "source": [
    "assert(Firewall(test_input).get_save_delay() == 10)\n",
    "print(\"Test passed\")"
   ]
  },
  {
   "cell_type": "code",
   "execution_count": 21,
   "metadata": {},
   "outputs": [
    {
     "data": {
      "text/plain": [
       "3849742"
      ]
     },
     "execution_count": 21,
     "metadata": {},
     "output_type": "execute_result"
    }
   ],
   "source": [
    "Firewall(my_input).get_save_delay()"
   ]
  },
  {
   "cell_type": "code",
   "execution_count": null,
   "metadata": {},
   "outputs": [],
   "source": []
  }
 ],
 "metadata": {
  "kernelspec": {
   "display_name": "Python 3",
   "language": "python",
   "name": "python3"
  },
  "language_info": {
   "codemirror_mode": {
    "name": "ipython",
    "version": 3
   },
   "file_extension": ".py",
   "mimetype": "text/x-python",
   "name": "python",
   "nbconvert_exporter": "python",
   "pygments_lexer": "ipython3",
   "version": "3.6.1"
  }
 },
 "nbformat": 4,
 "nbformat_minor": 2
}
